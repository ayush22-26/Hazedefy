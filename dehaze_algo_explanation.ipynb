{
 "cells": [
  {
   "cell_type": "markdown",
   "id": "b567546f",
   "metadata": {},
   "source": [
    "\n",
    "### 🔁 Algorithm Stages with Detailed Explanations\n",
    "\n",
    "This section breaks down the haze removal algorithm implemented in your project. The method follows the **Dark Channel Prior** technique and includes additional enhancements like **gamma correction** and **color balancing**.\n"
   ]
  },
  {
   "cell_type": "markdown",
   "id": "08b7bf44",
   "metadata": {},
   "source": [
    "\n",
    "#### 1. **Dark Channel Computation**\n",
    "- **Formula:** `min_channel = np.min(frame, axis=2)`\n",
    "- **Purpose:** Identify regions in the image with heavy haze.\n",
    "- The **dark channel** is obtained by taking the minimum intensity across RGB channels, followed by erosion:\n",
    "```python\n",
    "dark_channel = cv2.erode(min_channel, np.ones((15, 15), np.uint8))\n",
    "```\n",
    "- **Variable meanings:**\n",
    "  - `frame`: Original input image.\n",
    "  - `min_channel`: Image of per-pixel minimum RGB values.\n",
    "  - `dark_channel`: Final dark channel result after morphological erosion.\n"
   ]
  },
  {
   "cell_type": "markdown",
   "id": "1f03729c",
   "metadata": {},
   "source": [
    "\n",
    "#### 2. **Atmospheric Light Estimation**\n",
    "- Assumes that the haze is most dense in the brightest pixels of the dark channel.\n",
    "- We average the color values of the top 0.1%-1% brightest pixels:\n",
    "```python\n",
    "atmospheric_light = np.mean(frame.reshape(-1, 3)[indices], axis=0) * 0.8\n",
    "```\n",
    "- **Variable meanings:**\n",
    "  - `indices`: Indices of the brightest dark channel pixels.\n",
    "  - `A` (atmospheric_light): Global light intensity added by the haze.\n"
   ]
  },
  {
   "cell_type": "markdown",
   "id": "17f19087",
   "metadata": {},
   "source": [
    "\n",
    "#### 3. **Transmission Map Estimation**\n",
    "- Estimates the portion of light that is **not** scattered and reaches the camera.\n",
    "- **Formula:**\n",
    "$$\n",
    "t(x) = 1 - \\omega \\cdot \\frac{I_{\\text{dark}}(x)}{A}\n",
    "$$\n",
    "- **Variable meanings:**\n",
    "  - \\( t(x) \\): Transmission map.\n",
    "  - \\( \\omega \\): Tuning constant (typically 0.95) that controls haze removal strength.\n",
    "  - \\( I_{\\text{dark}}(x) \\): Dark channel value at pixel \\( x \\).\n",
    "  - \\( A \\): Atmospheric light.\n"
   ]
  },
  {
   "cell_type": "markdown",
   "id": "2a84e447",
   "metadata": {},
   "source": [
    "\n",
    "#### 4. **Scene Radiance Recovery**\n",
    "- Recovers the haze-free image from the original input and transmission map.\n",
    "- **Formula:**\n",
    "$$\n",
    "J(x) = \\frac{I(x) - A}{\\max(t(x), t_0)} + A\n",
    "$$\n",
    "- **Variable meanings:**\n",
    "  - \\( J(x) \\): Dehazed output image.\n",
    "  - \\( I(x) \\): Observed hazy input image.\n",
    "  - \\( t_0 \\): Minimum transmission threshold (e.g., 0.1) to prevent division by zero.\n",
    "  - \\( A \\): Atmospheric light.\n"
   ]
  },
  {
   "cell_type": "markdown",
   "id": "8af563f4",
   "metadata": {},
   "source": [
    "\n",
    "#### 5. **Gamma Correction**\n",
    "- Enhances contrast and adjusts brightness perceptually.\n",
    "- **Formula:**\n",
    "$$\n",
    "I_{\\text{gamma}} = \\left( \\frac{I}{255} \\right)^{1/\\gamma} \\cdot 255\n",
    "$$\n",
    "- **Variable meanings:**\n",
    "  - \\( \\gamma \\): Gamma value (e.g., 1.5). Higher values lighten the image.\n",
    "  - \\( I \\): Input image before correction.\n",
    "  - \\( I_{\\text{gamma}} \\): Output image after gamma correction.\n"
   ]
  },
  {
   "cell_type": "markdown",
   "id": "890b1937",
   "metadata": {},
   "source": [
    "\n",
    "#### 6. **Color Balancing (Optional)**\n",
    "- Applies white balancing to neutralize color cast using:\n",
    "```python\n",
    "cv2.xphoto.createSimpleWB().balanceWhite(image)\n",
    "```\n",
    "- This improves the visual quality and realism of the dehazed image.\n"
   ]
  },
  {
   "cell_type": "markdown",
   "id": "162a471a",
   "metadata": {},
   "source": [
    "\n",
    "### ✅ Summary\n",
    "\n",
    "| Stage                    | Main Goal                             | Key Output                 |\n",
    "|--------------------------|----------------------------------------|----------------------------|\n",
    "| Dark Channel             | Identify dense haze regions            | Dark channel image         |\n",
    "| Atmospheric Light        | Estimate haze color/light intensity    | Atmospheric light vector A |\n",
    "| Transmission Estimation  | Estimate light transmission map        | Transmission map t(x)      |\n",
    "| Radiance Recovery        | Reconstruct original image             | Haze-free image J(x)       |\n",
    "| Gamma Correction         | Enhance contrast                       | Gamma-adjusted image       |\n",
    "| Color Balancing          | Improve color neutrality               | Balanced final image       |\n"
   ]
  }
 ],
 "metadata": {},
 "nbformat": 4,
 "nbformat_minor": 5
}
